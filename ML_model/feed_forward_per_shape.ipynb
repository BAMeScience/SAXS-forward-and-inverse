{
 "cells": [
  {
   "cell_type": "code",
   "execution_count": 116,
   "metadata": {},
   "outputs": [],
   "source": [
    "import numpy as np\n",
    "import pandas as pd\n",
    "import torch\n",
    "import torch.nn as nn\n",
    "import torch.nn.functional as F\n",
    "import torch.utils.data\n",
    "from torch.utils.data.sampler import SubsetRandomSampler\n",
    "\n",
    "import seaborn as sns\n",
    "import os\n",
    "import h5py\n",
    "import matplotlib.pyplot as plt\n",
    "os.environ['CUDA_VISIBLE_DEVICES'] = \"3\"\n",
    "device = 'cuda'\n",
    "from time import time\n",
    "\n",
    "import losses"
   ]
  },
  {
   "cell_type": "code",
   "execution_count": 118,
   "metadata": {},
   "outputs": [],
   "source": [
    "filename_out    = 'output/ff_nn_per_shape.pt'\n",
    "# Model to load and continue training. Ignored if empty string\n",
    "filename_in     = ''\n",
    "# Compute device to perform the training on, 'cuda' or 'cpu'\n",
    "device          = 'cuda'\n",
    "# Use interactive visualization of losses and other plots. Requires visdom\n",
    "interactive_visualization = False # check first how this visdom works\n",
    "# Run a list of python functions at test time after eacch epoch\n",
    "# See toy_modes_train.py for reference example\n",
    "test_time_functions = []\n",
    "\n",
    "#######################\n",
    "#  Training schedule  #\n",
    "#######################\n",
    "\n",
    "# Initial learning rate\n",
    "lr_init         = 1.0e-4\n",
    "#Batch size\n",
    "batch_size      = 64\n",
    "# Total number of epochs to train for\n",
    "n_epochs        = 50\n",
    "\n",
    "# End the epoch after this many iterations (or when the train loader is exhausted)\n",
    "n_its_per_epoch = 200\n",
    "# For the first n epochs, train with a much lower learning rate. This can be\n",
    "# helpful if the model immediately explodes.\n",
    "pre_low_lr      = 0\n",
    "# Decay exponentially each epoch, to final_decay*lr_init at the last epoch.\n",
    "final_decay     = 0.02\n",
    "# L2 weight regularization of model parameters\n",
    "l2_weight_reg   = 1e-5\n",
    "# Parameters beta1, beta2 of the Adam optimizer\n",
    "adam_betas = (0.9, 0.95)\n",
    "\n",
    "#####################\n",
    "#  Data dimensions  #\n",
    "#####################\n",
    "ndim_x_class     = 3\n",
    "ndim_x_features     = 7\n",
    "\n",
    "ndim_y     = 512\n",
    "\n",
    "# Overwrite or import data loaders here.\n",
    "# See dkfz_train.py for reference.\n",
    "#from my_loaders import train_loader, test_loader\n",
    "\n",
    "train_loader, test_loader = None, None\n",
    "\n",
    "\n",
    "############\n",
    "#  Losses  #\n",
    "############\n",
    "\n",
    "train_forward_mmd    = True\n",
    "\n",
    "lambd_mmd_for_feature  = 1.\n",
    "\n",
    "# Both for fitting, and for the reconstruction, perturb y with Gaussian \n",
    "# noise of this sigma\n",
    "add_y_noise     = 5e-2 # think of smth smart here\n",
    "# For reconstruction, perturb z \n",
    "add_z_noise     = 2e-2\n",
    "# In all cases, perturb the zero padding\n",
    "add_pad_noise   = 1e-2\n",
    "\n",
    "# For noisy forward processes, the sigma on y (assumed equal in all dimensions).\n",
    "# This is only used if mmd_back_weighted of train_max_likelihoiod are True.\n",
    "y_uncertainty_sigma = 0.12 * 4\n",
    "\n",
    "mmd_forw_kernels = [(0.2, 2), (1.5, 2), (3.0, 2)]\n",
    "mmd_back_kernels = [(0.2, 0.1), (0.2, 0.5), (0.2, 2)]\n",
    "mmd_back_weighted = True\n",
    "\n",
    "###########\n",
    "#  Model  #\n",
    "###########\n",
    "\n",
    "# Initialize the model parameters from a normal distribution with this sigma\n",
    "init_scale = 0.10\n",
    "#\n",
    "N_blocks   = 10\n",
    "#\n",
    "exponent_clamping = 3.0\n",
    "#\n",
    "hidden_layer_sizes = 1024\n",
    "#\n",
    "use_permutation = True\n",
    "#\n",
    "verbose_construction = False"
   ]
  },
  {
   "cell_type": "code",
   "execution_count": 119,
   "metadata": {},
   "outputs": [],
   "source": [
    "def read_data(path):\n",
    "    files = [f for f in os.listdir(path) if os.path.isfile(os.path.join(path,f))]\n",
    "    labels = torch.zeros(len(files), 512, dtype = torch.float32)\n",
    "    inputs = torch.zeros(len(files), 10, dtype = torch.float32)\n",
    "    input_keys = ['shape', 'radius', 'radius_pd','length', 'length_pd',  'volfraction']\n",
    "    for i,f in enumerate(files):\n",
    "        with  h5py.File(os.path.join(path,f),'r') as file:\n",
    "            print(file, end = '\\r')\n",
    "            labels[i,:] = torch.from_numpy(file['entry/I'][()].flatten())#I_noisy\n",
    "            for i_k, key in enumerate(input_keys):\n",
    "                try:\n",
    "                    if key == 'shape':\n",
    "                        shape = file['properties'][key][()].decode(\"utf-8\")\n",
    "                        if shape == 'sphere':\n",
    "                            inputs[i, i_k:i_k+3] = torch.tensor([1,0,0]) \n",
    "                        elif shape == 'hardsphere':\n",
    "                            inputs[i, i_k:i_k+3] = torch.tensor([0,1,0])\n",
    "                        else:\n",
    "                            inputs[i, i_k:i_k+3] = torch.tensor([0,0,1])\n",
    "                    elif key =='radius':\n",
    "                        if shape == 'sphere':\n",
    "                            inputs[i, i_k+2:i_k+5] = torch.tensor([file['properties'][key][()],0,0]) \n",
    "                        elif shape == 'hardsphere':\n",
    "                            inputs[i, i_k+2:i_k+5] = torch.tensor([0,file['properties'][key][()],0])\n",
    "                        else:\n",
    "                            inputs[i, i_k+2:i_k+5] = torch.tensor([0,0,file['properties'][key][()]])\n",
    "                    else:\n",
    "                        inputs[i, i_k+4] = file['properties'][key][()]\n",
    "                except KeyError:\n",
    "                    # spheres don't have all of the properties a cylinder does\n",
    "                    pass\n",
    "    return inputs, labels\n",
    "            "
   ]
  },
  {
   "cell_type": "code",
   "execution_count": 120,
   "metadata": {},
   "outputs": [
    {
     "name": "stdout",
     "output_type": "stream",
     "text": [
      "<HDF5 file \"0101.nxs\" (mode r)>>\r"
     ]
    }
   ],
   "source": [
    "inputs,labels = read_data('/home/slaskina/simulations')"
   ]
  },
  {
   "cell_type": "code",
   "execution_count": 121,
   "metadata": {},
   "outputs": [],
   "source": [
    "def extract_shape(shape):\n",
    "    if shape == 'sphere':\n",
    "        return inputs[inputs[:,0]==1][:, 3:], labels[inputs[:,0]==1]\n",
    "    elif shape == 'hardsphere':\n",
    "        return inputs[inputs[:,1]==1][:, 3:], labels[inputs[:,1]==1]\n",
    "    else:\n",
    "        return inputs[inputs[:,2]==1][:, 3:], labels[inputs[:,2]==1]"
   ]
  },
  {
   "cell_type": "code",
   "execution_count": 122,
   "metadata": {},
   "outputs": [],
   "source": [
    "def create_loaders(inputs, labels):\n",
    "    # Creating data indices for training and validation splits:\n",
    "    dataset_size = len(labels)\n",
    "    indices = list(range(dataset_size))\n",
    "    test_size = 0.1\n",
    "    val_size = 0.2\n",
    "    test_split = int(np.floor(test_size * dataset_size))\n",
    "    val_split = int(np.floor(val_size * dataset_size))\n",
    "    np.random.seed(1234)\n",
    "    np.random.shuffle(indices)\n",
    "    train_indices, val_indices, test_indices = indices[:dataset_size-test_split-val_split], indices[dataset_size-test_split-val_split:dataset_size-test_split], indices[dataset_size-test_split:]\n",
    "\n",
    "    # Creating PT data samplers and loaders:\n",
    "    train_sampler = SubsetRandomSampler(train_indices)\n",
    "    val_sampler = SubsetRandomSampler(val_indices)\n",
    "    test_loader = torch.utils.data.DataLoader(\n",
    "    torch.utils.data.TensorDataset(labels, inputs), batch_size=batch_size, drop_last=True, sampler = val_sampler)\n",
    "\n",
    "    train_loader = torch.utils.data.DataLoader(\n",
    "    torch.utils.data.TensorDataset( labels, inputs), batch_size=batch_size, drop_last=True, sampler = train_sampler)\n",
    "\n",
    "    return train_indices, val_indices, test_indices,  test_loader, train_loader"
   ]
  },
  {
   "cell_type": "code",
   "execution_count": 123,
   "metadata": {},
   "outputs": [],
   "source": [
    "class ForwardScatteringConvolutional(nn.Module):\n",
    "    def __init__(self, N_blocks) -> None:\n",
    "        super().__init__()\n",
    "        self.N_blocks = N_blocks\n",
    "        self.sequence_block = nn.Sequential(\n",
    "            nn.Conv1d(512, 512, kernel_size = 5,padding = 2, stride=1),\n",
    "            nn.ELU(),\n",
    "            nn.AvgPool1d(5, padding=2, stride=1),\n",
    "        )\n",
    "        self.s1 = nn.Sequential(\n",
    "            nn.Conv1d(in_channels = 512, out_channels = 128 , kernel_size = 11, padding=5, stride=3),\n",
    "            nn.ELU()\n",
    "        )\n",
    "        self.linear_out = nn.Sequential(    \n",
    "            nn.Linear(128, 7),\n",
    "            nn.ELU()\n",
    "        )\n",
    "        self.flatten = nn.Flatten()\n",
    "    def forward(self, x):\n",
    "        x = x.reshape(len(x), -1, 1)\n",
    "        for _ in range(self.N_blocks):\n",
    "            x =  self.sequence_block(x)\n",
    "        x = self.s1(x)\n",
    "        x = self.flatten(x)\n",
    "        x = self.linear_out(x)\n",
    "        return x.reshape(-1,7)"
   ]
  },
  {
   "cell_type": "code",
   "execution_count": 136,
   "metadata": {},
   "outputs": [],
   "source": [
    "model_simple_conv_sphere = ForwardScatteringConvolutional(5).to(device)\n",
    "model_simple_conv_hardsphere = ForwardScatteringConvolutional(5).to(device)\n",
    "model_simple_conv_cylinder = ForwardScatteringConvolutional(5).to(device)"
   ]
  },
  {
   "cell_type": "code",
   "execution_count": 125,
   "metadata": {},
   "outputs": [],
   "source": [
    "def params_trainable(model):\n",
    "    params_trainable = list(filter(lambda p: p.requires_grad, model.parameters()))\n",
    "    for p in params_trainable:\n",
    "        p.data = init_scale * torch.randn(p.data.shape).to(device)\n",
    "    return params_trainable\n",
    "\n",
    "def optimizer(model):\n",
    "    optim = torch.optim.Adam(params_trainable(model), lr=lr_init, betas=adam_betas, eps=1e-6, weight_decay=l2_weight_reg)\n",
    "    return optim \n",
    "\n",
    "gamma = (final_decay)**(1./n_epochs)\n",
    "\n",
    "def optim_step(optim):\n",
    "    #for p in params_trainable:\n",
    "        #print(torch.mean(torch.abs(p.grad.data)).item())\n",
    "    optim.step()\n",
    "    optim.zero_grad()\n",
    "\n",
    "def save(name, model, optim):\n",
    "    torch.save({'opt':optim.state_dict(),\n",
    "                'net':model.state_dict()}, name)\n",
    "\n",
    "def load(name, model, optim):\n",
    "    state_dicts = torch.load(name)\n",
    "    model.load_state_dict(state_dicts['net'])\n",
    "    try:\n",
    "        optim.load_state_dict(state_dicts['opt'])\n",
    "    except ValueError:\n",
    "        print('Cannot load optimizer for some reason or other')"
   ]
  },
  {
   "cell_type": "code",
   "execution_count": 126,
   "metadata": {},
   "outputs": [],
   "source": [
    "\n",
    "def noise_batch(ndim):\n",
    "    return torch.randn(batch_size, ndim).to(device)\n",
    "\n",
    "\n",
    "def loss_forward_mmd( x_features, pred):\n",
    "    MMD_features = losses.backward_mmd(x_features, pred)\n",
    "    if mmd_back_weighted:\n",
    "        MMD_features *= torch.exp(- 0.5 / y_uncertainty_sigma**2 * losses.l2_dist_matrix(pred, pred))\n",
    "    return lambd_mmd_for_feature * torch.mean(MMD_features)\n",
    "\n",
    "def train_epoch(model, optim, i_epoch, loader,  test=False):\n",
    "    if not test:\n",
    "        model.train()\n",
    "\n",
    "    if test:\n",
    "        model.eval()\n",
    "        nograd = torch.no_grad()\n",
    "        nograd.__enter__()\n",
    "\n",
    "\n",
    "    batch_idx = 0\n",
    "    loss_history = []\n",
    "\n",
    "    for y,x in loader: # because y is  actualy the result of x\n",
    "\n",
    "        if batch_idx > n_its_per_epoch:\n",
    "            break\n",
    "\n",
    "        batch_idx += 1\n",
    "\n",
    "        x, y = x.to(device), y.to(device)\n",
    "\n",
    "\n",
    "        if add_y_noise > 0:\n",
    "            y += add_y_noise * noise_batch(ndim_y)\n",
    "     \n",
    "        pred = model(y).reshape(-1,7)\n",
    "        loss = loss_forward_mmd(x, pred)\n",
    "        loss_history.append([loss.item()]) # lisr of lists: list for each batch\n",
    "        \n",
    "        if not test:\n",
    "            loss.backward()\n",
    "            optim_step(optim)\n",
    "\n",
    "    if test:\n",
    "        nograd.__exit__(None, None, None)\n",
    "    return np.mean(loss_history, axis=0)\n",
    "\n",
    "def train(model, optim, train_loader, test_loader):\n",
    "\n",
    "    try:\n",
    "        t_start = time()\n",
    "        for i_epoch in range(-pre_low_lr, n_epochs):\n",
    "\n",
    "            if i_epoch < 0:\n",
    "                for param_group in optim.param_groups:\n",
    "                    param_group['lr'] = lr_init * 1e-1\n",
    "\n",
    "            train_losses = train_epoch(model, optim, i_epoch, train_loader) # mean over batches\n",
    "            test_losses  = train_epoch(model, optim, i_epoch, test_loader, test=True)\n",
    "            t = np.concatenate([train_losses, test_losses])\n",
    "            print('Epoch {i_e}: training loss: {tl}, test loss: {testl}'.format(i_e = i_epoch, tl = t[0], testl = t[1]))\n",
    "\n",
    "\n",
    "    except:\n",
    "        save(filename_out + '_ABORT',model, optim)\n",
    "        raise\n",
    "\n",
    "    finally:\n",
    "        print(\"\\n\\nTraining took %f minutes\\n\\n\" % ((time()-t_start)/60.))\n",
    "        save(filename_out,model, optim)\n"
   ]
  },
  {
   "cell_type": "code",
   "execution_count": 127,
   "metadata": {},
   "outputs": [],
   "source": [
    "def make_prediction(labels, model):\n",
    "    return model(labels)\n"
   ]
  },
  {
   "cell_type": "code",
   "execution_count": 128,
   "metadata": {},
   "outputs": [],
   "source": [
    "from visualizations import plot_outcomes_identified, describe_false_shapes, describe_positive_shapes, create_table_from_outcome"
   ]
  },
  {
   "cell_type": "code",
   "execution_count": 129,
   "metadata": {},
   "outputs": [],
   "source": [
    "def violinplot_feature_shape(df_test,  sampled_inputs, feature):\n",
    "    \"\"\"\n",
    "    Feature is either shape name, which will yield the radius\n",
    "    or the one of the keys in the `indexer`.\n",
    "    \"\"\"\n",
    "    indexer = {'radius_pd'   :3,\n",
    "                'length'     :4,\n",
    "                'length_pd'  :5,\n",
    "                'volfraction':6}\n",
    "    if feature =='sphere':\n",
    "        pred = df_test[:, 0]\n",
    "        sampled = sampled_inputs[:, 0]\n",
    "    elif feature == 'hardsphere':\n",
    "        pred = df_test[:, 1]\n",
    "        sampled = sampled_inputs[:, 1]\n",
    "    elif feature == 'cylinder':\n",
    "        pred = df_test[:, 2]\n",
    "        sampled = sampled_inputs[:, 2]\n",
    "    else:\n",
    "        pred = df_test[:, indexer[feature]]\n",
    "        sampled = sampled_inputs[:, indexer[feature]]\n",
    "    df = pd.concat([pd.DataFrame({'value': sampled, 'feature':'sampled'}),pd.DataFrame({'value': pred, 'feature':'predicted'})])\n",
    "    sns.violinplot(df, y = 'value', x = 'feature') # can't generalize"
   ]
  },
  {
   "cell_type": "markdown",
   "metadata": {},
   "source": [
    "## sphere"
   ]
  },
  {
   "cell_type": "code",
   "execution_count": 130,
   "metadata": {},
   "outputs": [],
   "source": [
    "inputs_sphere,labels_sphere =  extract_shape('sphere')"
   ]
  },
  {
   "cell_type": "code",
   "execution_count": 131,
   "metadata": {},
   "outputs": [],
   "source": [
    "train_indices_sphere, val_indices_sphere, test_indices_sphere,  test_loader_sphere, train_loader_sphere = create_loaders(inputs_sphere,labels_sphere)"
   ]
  },
  {
   "cell_type": "code",
   "execution_count": 132,
   "metadata": {},
   "outputs": [
    {
     "name": "stdout",
     "output_type": "stream",
     "text": [
      "Epoch 0: training loss: 1.6590135439678475, test loss: 0.13146322270234426\n",
      "Epoch 1: training loss: 0.0961386394445543, test loss: 0.10960091948509217\n",
      "Epoch 2: training loss: 0.088580130426972, test loss: 0.10555134266614914\n",
      "Epoch 3: training loss: 0.09976771142747667, test loss: 0.10443555215994517\n",
      "Epoch 4: training loss: 0.09380189515650272, test loss: 0.10622515256206194\n",
      "Epoch 5: training loss: 0.10475046753331467, test loss: 0.10398191958665848\n",
      "Epoch 6: training loss: 0.09500970277521345, test loss: 0.12324104160070419\n",
      "Epoch 7: training loss: 0.09480297096349576, test loss: 0.10172137667735417\n",
      "Epoch 8: training loss: 0.09506411843553737, test loss: 0.10111109266678492\n",
      "Epoch 9: training loss: 0.09463202863655708, test loss: 0.10034489581982295\n",
      "Epoch 10: training loss: 0.09795764026542504, test loss: 0.10337639401356379\n",
      "Epoch 11: training loss: 0.0946655134084048, test loss: 0.10832997312148412\n",
      "Epoch 12: training loss: 0.09249956554008855, test loss: 0.1181603342294693\n",
      "Epoch 13: training loss: 0.09182274458860909, test loss: 0.10454663882652919\n",
      "Epoch 14: training loss: 0.09448955214961811, test loss: 0.10211538051565489\n",
      "Epoch 15: training loss: 0.09956113566403035, test loss: 0.102291901409626\n",
      "Epoch 16: training loss: 0.09117617202853714, test loss: 0.1110235388080279\n",
      "Epoch 17: training loss: 0.09311383803961454, test loss: 0.10306310007969538\n",
      "Epoch 18: training loss: 0.10436045599204523, test loss: 0.112874752531449\n",
      "Epoch 19: training loss: 0.09214920695457193, test loss: 0.11008419692516327\n",
      "Epoch 20: training loss: 0.08906570870291304, test loss: 0.12410357197125753\n",
      "Epoch 21: training loss: 0.09666406170085624, test loss: 0.1012497494618098\n",
      "Epoch 22: training loss: 0.09338912968006399, test loss: 0.13208823849757512\n",
      "Epoch 23: training loss: 0.09218785166740417, test loss: 0.1138498067855835\n",
      "Epoch 24: training loss: 0.09299044504209801, test loss: 0.09972058658798535\n",
      "Epoch 25: training loss: 0.09186043700686207, test loss: 0.11221862435340882\n",
      "Epoch 26: training loss: 0.09414023298908163, test loss: 0.11110362857580185\n",
      "Epoch 27: training loss: 0.09626172165627833, test loss: 0.10807527750730514\n",
      "Epoch 28: training loss: 0.09253514026878057, test loss: 0.11178428530693055\n",
      "Epoch 29: training loss: 0.09672688810085808, test loss: 0.0997156873345375\n",
      "Epoch 30: training loss: 0.09419476406441794, test loss: 0.1060413142045339\n",
      "Epoch 31: training loss: 0.09309203605409022, test loss: 0.1080209344625473\n",
      "Epoch 32: training loss: 0.09318347137283396, test loss: 0.1165709674358368\n",
      "Epoch 33: training loss: 0.09486582116396339, test loss: 0.10251295268535614\n",
      "Epoch 34: training loss: 0.09497022739163151, test loss: 0.11409114574392637\n",
      "Epoch 35: training loss: 0.09604893438518047, test loss: 0.10249411016702652\n",
      "Epoch 36: training loss: 0.09095336241578614, test loss: 0.10115638226270676\n",
      "Epoch 37: training loss: 0.08984383844115117, test loss: 0.13262876123189926\n",
      "Epoch 38: training loss: 0.09424372410608663, test loss: 0.11142496168613433\n",
      "Epoch 39: training loss: 0.09283330125941171, test loss: 0.10295246243476867\n",
      "Epoch 40: training loss: 0.0925844069570303, test loss: 0.11618804310758908\n",
      "Epoch 41: training loss: 0.092057589372551, test loss: 0.10692028601964315\n",
      "Epoch 42: training loss: 0.0957964507655965, test loss: 0.10847516208887101\n",
      "Epoch 43: training loss: 0.0932975424522603, test loss: 0.1401309942205747\n",
      "Epoch 44: training loss: 0.09643757991768696, test loss: 0.10010201930999756\n",
      "Epoch 45: training loss: 0.09124275490089699, test loss: 0.11004282732804617\n",
      "Epoch 46: training loss: 0.09588802053972527, test loss: 0.11253726134697596\n",
      "Epoch 47: training loss: 0.09477932399345769, test loss: 0.11573475549618403\n",
      "Epoch 48: training loss: 0.09065679005450672, test loss: 0.1098938708504041\n",
      "Epoch 49: training loss: 0.09776110181377994, test loss: 0.11777582267920177\n",
      "\n",
      "\n",
      "Training took 0.576989 minutes\n",
      "\n",
      "\n"
     ]
    }
   ],
   "source": [
    "train(model_simple_conv_sphere, optimizer(model_simple_conv_sphere), train_loader_sphere, test_loader_sphere)"
   ]
  },
  {
   "cell_type": "code",
   "execution_count": 133,
   "metadata": {},
   "outputs": [],
   "source": [
    "df_test = make_prediction(labels[test_indices_sphere], model_simple_conv_sphere.to('cpu')).detach().numpy()"
   ]
  },
  {
   "cell_type": "code",
   "execution_count": 134,
   "metadata": {},
   "outputs": [
    {
     "data": {
      "image/png": "[encoded data removed]",
      "text/plain": [
       "<Figure size 640x480 with 1 Axes>"
      ]
     },
     "metadata": {},
     "output_type": "display_data"
    }
   ],
   "source": [
    "violinplot_feature_shape(df_test, inputs_sphere[test_indices_sphere], 'sphere')"
   ]
  },
  {
   "cell_type": "code",
   "execution_count": 135,
   "metadata": {},
   "outputs": [
    {
     "data": {
      "image/png": "[encoded data removed]",
      "text/plain": [
       "<Figure size 640x480 with 1 Axes>"
      ]
     },
     "metadata": {},
     "output_type": "display_data"
    }
   ],
   "source": [
    "violinplot_feature_shape(df_test, inputs_sphere[test_indices_sphere], 'sphere')"
   ]
  },
  {
   "cell_type": "markdown",
   "metadata": {},
   "source": [
    "## Hardsphere"
   ]
  },
  {
   "cell_type": "code",
   "execution_count": 137,
   "metadata": {},
   "outputs": [
    {
     "name": "stdout",
     "output_type": "stream",
     "text": [
      "Epoch 0: training loss: 1.3056219945903178, test loss: 0.24719288647174836\n",
      "Epoch 1: training loss: 0.2567422343073068, test loss: 0.2552393078804016\n",
      "Epoch 2: training loss: 0.25679975168572533, test loss: 0.2462403525908788\n",
      "Epoch 3: training loss: 0.2678743865754869, test loss: 0.26846837302049004\n",
      "Epoch 4: training loss: 0.26132805010786764, test loss: 0.24889394541581472\n",
      "Epoch 5: training loss: 0.2557700210147434, test loss: 0.24184228877226513\n",
      "Epoch 6: training loss: 0.2555735061566035, test loss: 0.27028557658195496\n",
      "Epoch 7: training loss: 0.2520428537218659, test loss: 0.24601855675379436\n",
      "Epoch 8: training loss: 0.2601337049294401, test loss: 0.24642925560474396\n",
      "Epoch 9: training loss: 0.25499276209760596, test loss: 0.2625046342611313\n",
      "Epoch 10: training loss: 0.2551476119293107, test loss: 0.2528097699085871\n",
      "Epoch 11: training loss: 0.26620685861066534, test loss: 0.2552065392335256\n",
      "Epoch 12: training loss: 0.2579064871425982, test loss: 0.27391178607940675\n",
      "Epoch 13: training loss: 0.2573568837510215, test loss: 0.24651573300361634\n",
      "Epoch 14: training loss: 0.26177910108257224, test loss: 0.2712254573901494\n",
      "Epoch 15: training loss: 0.25640555609155585, test loss: 0.2628252516190211\n",
      "Epoch 16: training loss: 0.2577000348656266, test loss: 0.24416916569073996\n",
      "Epoch 17: training loss: 0.25191403539092455, test loss: 0.24512903690338134\n",
      "Epoch 18: training loss: 0.2598149809572432, test loss: 0.2517703135808309\n",
      "Epoch 19: training loss: 0.255837905186194, test loss: 0.25622665385405224\n",
      "Epoch 20: training loss: 0.2575059237855452, test loss: 0.2399886796871821\n",
      "Epoch 21: training loss: 0.25204485572046703, test loss: 0.24566457172234854\n",
      "Epoch 22: training loss: 0.2530210961898168, test loss: 0.2498538484176\n",
      "Epoch 23: training loss: 0.2585636537384104, test loss: 0.2517932097117106\n",
      "Epoch 24: training loss: 0.25838648748618587, test loss: 0.24754828612009686\n",
      "Epoch 25: training loss: 0.2514688369852525, test loss: 0.23673693339029947\n",
      "Epoch 26: training loss: 0.2497519169140745, test loss: 0.2411804586648941\n",
      "Epoch 27: training loss: 0.25457351792741706, test loss: 0.23395060499509177\n",
      "Epoch 28: training loss: 0.24344069207156147, test loss: 0.24677565197149912\n",
      "Epoch 29: training loss: 0.24118255768661145, test loss: 0.2185694416364034\n",
      "Epoch 30: training loss: 0.21782338867584863, test loss: 0.17847943504651387\n",
      "Epoch 31: training loss: 0.1722042527463701, test loss: 0.13354735175768534\n",
      "Epoch 32: training loss: 0.1284718396211112, test loss: 0.12168020109335581\n",
      "Epoch 33: training loss: 0.11070223194029596, test loss: 0.09722030957539876\n",
      "Epoch 34: training loss: 0.10857482792602645, test loss: 0.10418399075667063\n",
      "Epoch 35: training loss: 0.09142625049032548, test loss: 0.08269724249839783\n",
      "Epoch 36: training loss: 0.08283949967611719, test loss: 0.08476534237464269\n",
      "Epoch 37: training loss: 0.0919301815468956, test loss: 0.08328764860828718\n",
      "Epoch 38: training loss: 0.07415832986158354, test loss: 0.07270201767484347\n",
      "Epoch 39: training loss: 0.0681168597743467, test loss: 0.06398230368892352\n",
      "Epoch 40: training loss: 0.07155013712192024, test loss: 0.06450415179133415\n",
      "Epoch 41: training loss: 0.0769867968780023, test loss: 0.08247729341189067\n",
      "Epoch 42: training loss: 0.06878768604386735, test loss: 0.06215469216307004\n",
      "Epoch 43: training loss: 0.07072504647765998, test loss: 0.07872285495201746\n",
      "Epoch 44: training loss: 0.06898316658205456, test loss: 0.08932309076189995\n",
      "Epoch 45: training loss: 0.0699692015984544, test loss: 0.09098224913080534\n",
      "Epoch 46: training loss: 0.06965931187625285, test loss: 0.05993607093890508\n",
      "Epoch 47: training loss: 0.06600111688452738, test loss: 0.06144539813200633\n",
      "Epoch 48: training loss: 0.073632862901798, test loss: 0.07698638923466206\n",
      "Epoch 49: training loss: 0.06214380909309343, test loss: 0.05209672823548317\n",
      "\n",
      "\n",
      "Training took 0.571612 minutes\n",
      "\n",
      "\n"
     ]
    }
   ],
   "source": [
    "inputs_hardsphere,labels_hardsphere =  extract_shape('hardsphere')\n",
    "train_indices_hardsphere, val_indices_hardsphere, test_indices_hardsphere,  test_loader_hardsphere, train_loader_hardsphere = create_loaders(inputs_hardsphere,labels_hardsphere)\n",
    "train(model_simple_conv_hardsphere, optimizer(model_simple_conv_hardsphere),train_loader_hardsphere, test_loader_hardsphere)"
   ]
  },
  {
   "cell_type": "code",
   "execution_count": 139,
   "metadata": {},
   "outputs": [],
   "source": [
    "df_test = make_prediction(labels[test_indices_hardsphere], model_simple_conv_hardsphere.to('cpu')).detach().numpy()"
   ]
  },
  {
   "cell_type": "code",
   "execution_count": 140,
   "metadata": {},
   "outputs": [
    {
     "data": {
      "image/png": "[encoded data removed]",
      "text/plain": [
       "<Figure size 640x480 with 1 Axes>"
      ]
     },
     "metadata": {},
     "output_type": "display_data"
    }
   ],
   "source": [
    "violinplot_feature_shape(df_test, inputs_hardsphere[test_indices_hardsphere], 'hardsphere')"
   ]
  },
  {
   "cell_type": "code",
   "execution_count": 141,
   "metadata": {},
   "outputs": [
    {
     "data": {
      "image/png": "[encoded data removed]",
      "text/plain": [
       "<Figure size 640x480 with 1 Axes>"
      ]
     },
     "metadata": {},
     "output_type": "display_data"
    }
   ],
   "source": [
    "violinplot_feature_shape(df_test, inputs_hardsphere[test_indices_hardsphere], 'radius_pd')"
   ]
  },
  {
   "cell_type": "code",
   "execution_count": 142,
   "metadata": {},
   "outputs": [
    {
     "data": {
      "image/png": "[encoded data removed]",
      "text/plain": [
       "<Figure size 640x480 with 1 Axes>"
      ]
     },
     "metadata": {},
     "output_type": "display_data"
    }
   ],
   "source": [
    "violinplot_feature_shape(df_test, inputs_hardsphere[test_indices_hardsphere], 'volfraction')"
   ]
  },
  {
   "cell_type": "markdown",
   "metadata": {},
   "source": [
    "## Cylinder"
   ]
  },
  {
   "cell_type": "code",
   "execution_count": 144,
   "metadata": {},
   "outputs": [
    {
     "name": "stdout",
     "output_type": "stream",
     "text": [
      "Epoch 0: training loss: 3.8177487320370145, test loss: 2.820312245686849\n",
      "Epoch 1: training loss: 2.9442907351034657, test loss: 2.9893744468688963\n",
      "Epoch 2: training loss: 2.8803969312597206, test loss: 3.0275205930074054\n",
      "Epoch 3: training loss: 2.8910003149950945, test loss: 2.989099661509196\n",
      "Epoch 4: training loss: 2.8991290551644786, test loss: 3.0443098545074463\n",
      "Epoch 5: training loss: 2.8713219783924244, test loss: 2.905250358581543\n",
      "Epoch 6: training loss: 2.871181536603857, test loss: 2.9818795839945476\n",
      "Epoch 7: training loss: 2.865652830512435, test loss: 2.922273588180542\n",
      "Epoch 8: training loss: 2.7536527713139853, test loss: 2.7761449019114175\n",
      "Epoch 9: training loss: 2.093163276160205, test loss: 1.4794826745986938\n",
      "Epoch 10: training loss: 0.9477358052024135, test loss: 0.6981538295745849\n",
      "Epoch 11: training loss: 0.597331452148932, test loss: 0.5852737208207448\n",
      "Epoch 12: training loss: 0.5273283510296433, test loss: 0.5080280343691508\n",
      "Epoch 13: training loss: 0.5280509762190007, test loss: 0.5383778373400371\n",
      "Epoch 14: training loss: 0.5096087560609535, test loss: 0.5275032639503479\n",
      "Epoch 15: training loss: 0.5267892794476615, test loss: 0.5255418141682943\n",
      "Epoch 16: training loss: 0.5240373639044938, test loss: 0.520527821779251\n",
      "Epoch 17: training loss: 0.5240503731701109, test loss: 0.521707284450531\n",
      "Epoch 18: training loss: 0.5103677262862524, test loss: 0.5114187439282735\n",
      "Epoch 19: training loss: 0.5206371280882094, test loss: 0.5227896968523661\n",
      "Epoch 20: training loss: 0.5334383503154472, test loss: 0.5790582895278931\n",
      "Epoch 21: training loss: 0.522188311373746, test loss: 0.5370081484317779\n",
      "Epoch 22: training loss: 0.5277099736310817, test loss: 0.49722073078155515\n",
      "Epoch 23: training loss: 0.5264670865403281, test loss: 0.5307447214921316\n",
      "Epoch 24: training loss: 0.5186341620153851, test loss: 0.5309276163578034\n",
      "Epoch 25: training loss: 0.5375640833819354, test loss: 0.569103209177653\n",
      "Epoch 26: training loss: 0.5245212134387758, test loss: 0.5364156047503154\n",
      "Epoch 27: training loss: 0.5042879664235644, test loss: 0.533664216597875\n",
      "Epoch 28: training loss: 0.5048496033306475, test loss: 0.5171344180901846\n",
      "Epoch 29: training loss: 0.5254020845448529, test loss: 0.5357775807380676\n",
      "Epoch 30: training loss: 0.5312428341971503, test loss: 0.5098057468732198\n",
      "Epoch 31: training loss: 0.5176909008511791, test loss: 0.5281931718190511\n",
      "Epoch 32: training loss: 0.5314179752711896, test loss: 0.5385459999243418\n",
      "Epoch 33: training loss: 0.5074995739592446, test loss: 0.5000236590703329\n",
      "Epoch 34: training loss: 0.5300925120159432, test loss: 0.47625759840011594\n",
      "Epoch 35: training loss: 0.5111436556886744, test loss: 0.506224109729131\n",
      "Epoch 36: training loss: 0.5201850373435903, test loss: 0.5466245869795482\n",
      "Epoch 37: training loss: 0.523213357285217, test loss: 0.5534040868282318\n",
      "Epoch 38: training loss: 0.5056636355541371, test loss: 0.5220079878966014\n",
      "Epoch 39: training loss: 0.5153326000328418, test loss: 0.5364373127619425\n",
      "Epoch 40: training loss: 0.5163627680804994, test loss: 0.5175744811693828\n",
      "Epoch 41: training loss: 0.5306270254982842, test loss: 0.5104309300581614\n",
      "Epoch 42: training loss: 0.5135573794444402, test loss: 0.5044195453325907\n",
      "Epoch 43: training loss: 0.5074686888191435, test loss: 0.521529104312261\n",
      "Epoch 44: training loss: 0.512605869659671, test loss: 0.5242823978265126\n",
      "Epoch 45: training loss: 0.5105873649870908, test loss: 0.5358757972717285\n",
      "Epoch 46: training loss: 0.5281497620873981, test loss: 0.4887839794158936\n",
      "Epoch 47: training loss: 0.5018406609694163, test loss: 0.5417995691299439\n",
      "Epoch 48: training loss: 0.5084063300380001, test loss: 0.49884905815124514\n",
      "Epoch 49: training loss: 0.522977027076262, test loss: 0.5189556062221528\n",
      "\n",
      "\n",
      "Training took 0.571019 minutes\n",
      "\n",
      "\n"
     ]
    }
   ],
   "source": [
    "inputs_cylinder,labels_cylinder =  extract_shape('cylinder')\n",
    "train_indices_cylinder, val_indices_cylinder, test_indices_cylinder,  test_loader_cylinder, train_loader_cylinder = create_loaders(inputs_cylinder,labels_cylinder)\n",
    "train(model_simple_conv_cylinder, optimizer(model_simple_conv_cylinder),train_loader_cylinder, test_loader_cylinder)"
   ]
  },
  {
   "cell_type": "code",
   "execution_count": 145,
   "metadata": {},
   "outputs": [],
   "source": [
    "df_test = make_prediction(labels[test_indices_cylinder], model_simple_conv_cylinder.to('cpu')).detach().numpy()"
   ]
  },
  {
   "cell_type": "code",
   "execution_count": 146,
   "metadata": {},
   "outputs": [
    {
     "data": {
      "image/png": "[encoded data removed]",
      "text/plain": [
       "<Figure size 640x480 with 1 Axes>"
      ]
     },
     "metadata": {},
     "output_type": "display_data"
    }
   ],
   "source": [
    "violinplot_feature_shape(df_test, inputs_cylinder[test_indices_cylinder], 'cylinder')"
   ]
  },
  {
   "cell_type": "code",
   "execution_count": 147,
   "metadata": {},
   "outputs": [
    {
     "data": {
      "image/png": "[encoded data removed]",
      "text/plain": [
       "<Figure size 640x480 with 1 Axes>"
      ]
     },
     "metadata": {},
     "output_type": "display_data"
    }
   ],
   "source": [
    "violinplot_feature_shape(df_test, inputs_cylinder[test_indices_cylinder], 'radius_pd')"
   ]
  },
  {
   "cell_type": "code",
   "execution_count": 148,
   "metadata": {},
   "outputs": [
    {
     "data": {
      "image/png": "[encoded data removed]",
      "text/plain": [
       "<Figure size 640x480 with 1 Axes>"
      ]
     },
     "metadata": {},
     "output_type": "display_data"
    }
   ],
   "source": [
    "violinplot_feature_shape(df_test, inputs_cylinder[test_indices_cylinder], 'length')"
   ]
  },
  {
   "cell_type": "code",
   "execution_count": 149,
   "metadata": {},
   "outputs": [
    {
     "data": {
      "image/png": "[encoded data removed]",
      "text/plain": [
       "<Figure size 640x480 with 1 Axes>"
      ]
     },
     "metadata": {},
     "output_type": "display_data"
    }
   ],
   "source": [
    "violinplot_feature_shape(df_test, inputs_cylinder[test_indices_cylinder], 'length_pd')"
   ]
  },
  {
   "cell_type": "code",
   "execution_count": null,
   "metadata": {},
   "outputs": [],
   "source": []
  },
  {
   "cell_type": "code",
   "execution_count": null,
   "metadata": {},
   "outputs": [],
   "source": []
  }
 ],
 "metadata": {
  "kernelspec": {
   "display_name": "Python 3.9.12 ('ma')",
   "language": "python",
   "name": "python3"
  },
  "language_info": {
   "codemirror_mode": {
    "name": "ipython",
    "version": 3
   },
   "file_extension": ".py",
   "mimetype": "text/x-python",
   "name": "python",
   "nbconvert_exporter": "python",
   "pygments_lexer": "ipython3",
   "version": "3.9.12"
  },
  "orig_nbformat": 4,
  "vscode": {
   "interpreter": {
    "hash": "3cf40aa69699bccdfff3b1800743db240569e61e711978c73d21771f8ba2dcb9"
   }
  }
 },
 "nbformat": 4,
 "nbformat_minor": 2
}
