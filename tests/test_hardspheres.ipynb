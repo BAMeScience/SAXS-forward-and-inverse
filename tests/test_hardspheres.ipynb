{
 "cells": [
  {
   "cell_type": "code",
   "execution_count": 1,
   "metadata": {},
   "outputs": [
    {
     "data": {
      "text/plain": [
       "<pyopencl.Context at 0x55694ebafc20 on <pyopencl.Device 'Quadro RTX 5000' on 'NVIDIA CUDA' at 0x55694ebc9460>>"
      ]
     },
     "execution_count": 1,
     "metadata": {},
     "output_type": "execute_result"
    }
   ],
   "source": [
    "# MUST be executed first, as sometimes causes the kernel to die and makes it inconvinient, since everything will need to be rerun\n",
    "#to create sas_models simulation with GPU\n",
    "os.environ[\"CUDA_VISIBLE_DEVICES\"] = \"2\"\n",
    "import pyopencl as cl\n",
    "import torch\n",
    "cl.create_some_context()\n"
   ]
  },
  {
   "cell_type": "code",
   "execution_count": 2,
   "metadata": {},
   "outputs": [],
   "source": [
    "import sys\n",
    "sys.path.append('/home/slaskina/SAXS-simulations')\n"
   ]
  },
  {
   "cell_type": "code",
   "execution_count": 3,
   "metadata": {},
   "outputs": [],
   "source": [
    "from SAXSsimulations import  Sphere, Cylinder, DensityData\n",
    "from SAXSsimulations.plotting import *"
   ]
  },
  {
   "cell_type": "code",
   "execution_count": 8,
   "metadata": {},
   "outputs": [],
   "source": [
    "def compare_hardspheres():\n",
    "    sizes = [81, 125,243,343,441,625,729,875,945]\n",
    "    plt.figure(figsize = (12,6))\n",
    "    for alpha, s in enumerate(sizes):\n",
    "        simulation = Sphere(size = 250, nPoints = s, volFrac = 0.15)\n",
    "        simulation.place_shape(rMean = 5, nonoverlapping=True)\n",
    "        simulation.calculate_custom_FTI(three_d = False)\n",
    "        simulation.reBin(s//3, for_sas=True)\n",
    "        simulation.drop_first_bin()\n",
    "        if s ==441:\n",
    "            simulation.init_sas_model()\n",
    "            simulation.optimize_scaling()\n",
    "            plt.plot(simulation.qx_sas, simulation.I_sas, '-', color = 'red', label = 'SasView')   \n",
    "        plt.plot(simulation.binned_slice.Q, simulation.binned_slice.I, color = 'blue', alpha = alpha/9+0.1 if alpha<441 else alpha/9,  label = '{} points'.format(s))\n",
    "\n",
    "    \n",
    "    plt.xlabel(r\"q $nm^{-1}$\")\n",
    "    plt.ylabel(r\"I $(m sr)^{-1}$\")\n",
    "    plt.xscale('log') \n",
    "    plt.yscale('log') \n",
    "    plt.title(r'$Scattering curves for a hardsphere particle size of 5 nm in 250^3 nm simulated box with 0.15 colume fraction$')\n",
    "    order = [0,1,2,3,5,6,7,8,9,4]\n",
    "    plt.legend([handles[idx] for idx in order],[labels[idx] for idx in order],title = 'Simulation' )\n",
    "    plt.savefig('figures/hardspheres_5nm_comp.png', formmat = 'png')\n"
   ]
  },
  {
   "cell_type": "code",
   "execution_count": 9,
   "metadata": {},
   "outputs": [
    {
     "name": "stdout",
     "output_type": "stream",
     "text": [
      "volume fraction now:61.992\r"
     ]
    },
    {
     "ename": "KeyboardInterrupt",
     "evalue": "",
     "output_type": "error",
     "traceback": [
      "\u001b[0;31m---------------------------------------------------------------------------\u001b[0m",
      "\u001b[0;31mKeyboardInterrupt\u001b[0m                         Traceback (most recent call last)",
      "\u001b[1;32m/home/slaskina/SAXS-simulations/tests/test_hardspheres.ipynb Cell 5\u001b[0m in \u001b[0;36m<cell line: 1>\u001b[0;34m()\u001b[0m\n\u001b[0;32m----> <a href='vscode-notebook-cell://ssh-remote%2Bsv2110.zit.bam.de/home/slaskina/SAXS-simulations/tests/test_hardspheres.ipynb#W3sdnNjb2RlLXJlbW90ZQ%3D%3D?line=0'>1</a>\u001b[0m compare_hardspheres()\n",
      "\u001b[1;32m/home/slaskina/SAXS-simulations/tests/test_hardspheres.ipynb Cell 5\u001b[0m in \u001b[0;36mcompare_hardspheres\u001b[0;34m()\u001b[0m\n\u001b[1;32m      <a href='vscode-notebook-cell://ssh-remote%2Bsv2110.zit.bam.de/home/slaskina/SAXS-simulations/tests/test_hardspheres.ipynb#W3sdnNjb2RlLXJlbW90ZQ%3D%3D?line=3'>4</a>\u001b[0m \u001b[39mfor\u001b[39;00m alpha, s \u001b[39min\u001b[39;00m \u001b[39menumerate\u001b[39m(sizes):\n\u001b[1;32m      <a href='vscode-notebook-cell://ssh-remote%2Bsv2110.zit.bam.de/home/slaskina/SAXS-simulations/tests/test_hardspheres.ipynb#W3sdnNjb2RlLXJlbW90ZQ%3D%3D?line=4'>5</a>\u001b[0m     simulation \u001b[39m=\u001b[39m Sphere(size \u001b[39m=\u001b[39m \u001b[39m250\u001b[39m, nPoints \u001b[39m=\u001b[39m s, volFrac \u001b[39m=\u001b[39m \u001b[39m0.15\u001b[39m)\n\u001b[0;32m----> <a href='vscode-notebook-cell://ssh-remote%2Bsv2110.zit.bam.de/home/slaskina/SAXS-simulations/tests/test_hardspheres.ipynb#W3sdnNjb2RlLXJlbW90ZQ%3D%3D?line=5'>6</a>\u001b[0m     simulation\u001b[39m.\u001b[39;49mplace_shape(rMean \u001b[39m=\u001b[39;49m \u001b[39m5\u001b[39;49m, nonoverlapping\u001b[39m=\u001b[39;49m\u001b[39mTrue\u001b[39;49;00m)\n\u001b[1;32m      <a href='vscode-notebook-cell://ssh-remote%2Bsv2110.zit.bam.de/home/slaskina/SAXS-simulations/tests/test_hardspheres.ipynb#W3sdnNjb2RlLXJlbW90ZQ%3D%3D?line=6'>7</a>\u001b[0m     simulation\u001b[39m.\u001b[39mcalculate_custom_FTI(three_d \u001b[39m=\u001b[39m \u001b[39mFalse\u001b[39;00m)\n\u001b[1;32m      <a href='vscode-notebook-cell://ssh-remote%2Bsv2110.zit.bam.de/home/slaskina/SAXS-simulations/tests/test_hardspheres.ipynb#W3sdnNjb2RlLXJlbW90ZQ%3D%3D?line=7'>8</a>\u001b[0m     simulation\u001b[39m.\u001b[39mreBin(s\u001b[39m/\u001b[39m\u001b[39m/\u001b[39m\u001b[39m3\u001b[39m, for_sas\u001b[39m=\u001b[39m\u001b[39mTrue\u001b[39;00m)\n",
      "File \u001b[0;32m~/SAXS-simulations/SAXSsimulations/sphere.py:31\u001b[0m, in \u001b[0;36mSphere.place_shape\u001b[0;34m(self, single, nonoverlapping, **kwargs)\u001b[0m\n\u001b[1;32m     29\u001b[0m     \u001b[39mself\u001b[39m\u001b[39m.\u001b[39mrWidth \u001b[39m=\u001b[39m \u001b[39m0.1\u001b[39m\n\u001b[1;32m     30\u001b[0m \u001b[39mif\u001b[39;00m \u001b[39mself\u001b[39m\u001b[39m.\u001b[39mvolume_fraction_threshold \u001b[39m!=\u001b[39m \u001b[39m0\u001b[39m:\n\u001b[0;32m---> 31\u001b[0m     \u001b[39mself\u001b[39;49m\u001b[39m.\u001b[39;49m__sphere_in_box(single, nonoverlapping)\n\u001b[1;32m     32\u001b[0m \u001b[39mself\u001b[39m\u001b[39m.\u001b[39mhardsphere \u001b[39m=\u001b[39m nonoverlapping\n",
      "File \u001b[0;32m~/SAXS-simulations/SAXSsimulations/sphere.py:63\u001b[0m, in \u001b[0;36mSphere.__sphere_in_box\u001b[0;34m(self, single, nonoverlapping)\u001b[0m\n\u001b[1;32m     61\u001b[0m \u001b[39m# generate a position that is definitely inside the box\u001b[39;00m\n\u001b[1;32m     62\u001b[0m center \u001b[39m=\u001b[39m np\u001b[39m.\u001b[39mrandom\u001b[39m.\u001b[39muniform(low \u001b[39m=\u001b[39m \u001b[39m-\u001b[39m\u001b[39mself\u001b[39m\u001b[39m.\u001b[39mbox_size\u001b[39m/\u001b[39m\u001b[39m2\u001b[39m \u001b[39m+\u001b[39m radius, high \u001b[39m=\u001b[39m \u001b[39mself\u001b[39m\u001b[39m.\u001b[39mbox_size\u001b[39m/\u001b[39m\u001b[39m2\u001b[39m \u001b[39m-\u001b[39m radius, size \u001b[39m=\u001b[39m \u001b[39m3\u001b[39m)\n\u001b[0;32m---> 63\u001b[0m success \u001b[39m=\u001b[39m \u001b[39mself\u001b[39;49m\u001b[39m.\u001b[39;49m__generate_sphere(radius, center, nonoverlapping)\n\u001b[1;32m     64\u001b[0m \u001b[39mif\u001b[39;00m success:\n\u001b[1;32m     65\u001b[0m     \u001b[39mself\u001b[39m\u001b[39m.\u001b[39mshapes\u001b[39m+\u001b[39m\u001b[39m=\u001b[39m\u001b[39m1\u001b[39m\n",
      "File \u001b[0;32m~/SAXS-simulations/SAXSsimulations/sphere.py:84\u001b[0m, in \u001b[0;36mSphere.__generate_sphere\u001b[0;34m(self, radius, center, nonoverlapping)\u001b[0m\n\u001b[1;32m     82\u001b[0m success \u001b[39m=\u001b[39m \u001b[39mTrue\u001b[39;00m\n\u001b[1;32m     83\u001b[0m \u001b[39mif\u001b[39;00m nonoverlapping:\n\u001b[0;32m---> 84\u001b[0m     empty_box \u001b[39m=\u001b[39m torch\u001b[39m.\u001b[39;49mzeros_like(\u001b[39mself\u001b[39;49m\u001b[39m.\u001b[39;49m_box)\n\u001b[1;32m     85\u001b[0m \u001b[39m#working on slices: slice through x\u001b[39;00m\n\u001b[1;32m     86\u001b[0m x2y \u001b[39m=\u001b[39m \u001b[39mself\u001b[39m\u001b[39m.\u001b[39mgrid[:,\u001b[39mNone\u001b[39;00m]\n",
      "\u001b[0;31mKeyboardInterrupt\u001b[0m: "
     ]
    },
    {
     "data": {
      "text/plain": [
       "<Figure size 1200x600 with 0 Axes>"
      ]
     },
     "metadata": {},
     "output_type": "display_data"
    }
   ],
   "source": [
    "compare_hardspheres()"
   ]
  },
  {
   "cell_type": "code",
   "execution_count": null,
   "metadata": {},
   "outputs": [],
   "source": []
  }
 ],
 "metadata": {
  "kernelspec": {
   "display_name": "ma",
   "language": "python",
   "name": "python3"
  },
  "language_info": {
   "codemirror_mode": {
    "name": "ipython",
    "version": 3
   },
   "file_extension": ".py",
   "mimetype": "text/x-python",
   "name": "python",
   "nbconvert_exporter": "python",
   "pygments_lexer": "ipython3",
   "version": "3.9.12 | packaged by conda-forge | (main, Mar 24 2022, 23:25:59) \n[GCC 10.3.0]"
  },
  "orig_nbformat": 4,
  "vscode": {
   "interpreter": {
    "hash": "3cf40aa69699bccdfff3b1800743db240569e61e711978c73d21771f8ba2dcb9"
   }
  }
 },
 "nbformat": 4,
 "nbformat_minor": 2
}
